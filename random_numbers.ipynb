{
 "cells": [
  {
   "cell_type": "code",
   "execution_count": 37,
   "id": "54d50e85",
   "metadata": {},
   "outputs": [],
   "source": [
    "# Import randome module\n",
    "import random\n",
    "# Import numpy\n",
    "import numpy as np\n",
    "# Import timeit magic command\n",
    "import timeit\n",
    "# Import Pandas\n",
    "import pandas as pd\n",
    "# Import matplotlib.pyplot as plt\n",
    "import matplotlib.pyplot as plt\n"
   ]
  },
  {
   "cell_type": "code",
   "execution_count": 2,
   "id": "4be5f719",
   "metadata": {},
   "outputs": [
    {
     "data": {
      "text/plain": [
       "44"
      ]
     },
     "execution_count": 2,
     "metadata": {},
     "output_type": "execute_result"
    }
   ],
   "source": [
    "random.randint(-90, 90)"
   ]
  },
  {
   "cell_type": "code",
   "execution_count": 3,
   "id": "5e98686a",
   "metadata": {},
   "outputs": [
    {
     "data": {
      "text/plain": [
       "0.477536835488246"
      ]
     },
     "execution_count": 3,
     "metadata": {},
     "output_type": "execute_result"
    }
   ],
   "source": [
    "random.random()"
   ]
  },
  {
   "cell_type": "code",
   "execution_count": 4,
   "id": "7d45cbd1",
   "metadata": {},
   "outputs": [
    {
     "data": {
      "text/plain": [
       "38.4904279461029"
      ]
     },
     "execution_count": 4,
     "metadata": {},
     "output_type": "execute_result"
    }
   ],
   "source": [
    "random_number = random.randint(-90, 90) + random.random()\n",
    "random_number"
   ]
  },
  {
   "cell_type": "code",
   "execution_count": 5,
   "id": "a201980d",
   "metadata": {},
   "outputs": [
    {
     "data": {
      "text/plain": [
       "[-37.01135803251797,\n",
       " 45.52003745795525,\n",
       " 72.00345205958277,\n",
       " 8.631230999071327,\n",
       " 21.63101691376479,\n",
       " 16.74845949575265,\n",
       " -33.31504592797313,\n",
       " 54.5965120864388,\n",
       " -80.74717863008875,\n",
       " -16.07090846681769]"
      ]
     },
     "execution_count": 5,
     "metadata": {},
     "output_type": "execute_result"
    }
   ],
   "source": [
    "x=1 \n",
    "latitudes = []\n",
    "while x < 11:\n",
    "    random_lat = random.randint(-90, 90) + random.random()\n",
    "    latitudes.append(random_lat)\n",
    "    x += 1\n",
    "latitudes"
   ]
  },
  {
   "cell_type": "code",
   "execution_count": 6,
   "id": "dcec9603",
   "metadata": {},
   "outputs": [
    {
     "data": {
      "text/plain": [
       "10"
      ]
     },
     "execution_count": 6,
     "metadata": {},
     "output_type": "execute_result"
    }
   ],
   "source": [
    "len(latitudes)"
   ]
  },
  {
   "cell_type": "code",
   "execution_count": 7,
   "id": "95e7e51a",
   "metadata": {},
   "outputs": [
    {
     "data": {
      "text/plain": [
       "(20, -84)"
      ]
     },
     "execution_count": 7,
     "metadata": {},
     "output_type": "execute_result"
    }
   ],
   "source": [
    "# Adding step perameters to Random data\n",
    "random.randrange(-90, 90, step=1), random.randrange(-90, 90, step=3)"
   ]
  },
  {
   "cell_type": "code",
   "execution_count": 8,
   "id": "fc433eae",
   "metadata": {},
   "outputs": [
    {
     "data": {
      "text/plain": [
       "-59.59096689837752"
      ]
     },
     "execution_count": 8,
     "metadata": {},
     "output_type": "execute_result"
    }
   ],
   "source": [
    "# Generating floating-point decimal numbers\n",
    "random.uniform(-90, 90)"
   ]
  },
  {
   "cell_type": "code",
   "execution_count": 11,
   "id": "2defcf7c",
   "metadata": {},
   "outputs": [
    {
     "data": {
      "text/plain": [
       "(array([ -7.16406459, -28.58715219, -77.65924746,  15.55459027,\n",
       "        -69.9668252 , -67.43260857, -22.35388923,  19.34952602,\n",
       "         65.476861  ,  10.84492301,   6.45766631,  12.84483358,\n",
       "         82.71692934, -18.04257208,  66.11590036, -14.12755365,\n",
       "         16.94881417, -39.46422292, -88.15950789,  86.67830465,\n",
       "         81.3646418 ,  26.43951665,   4.99079419, -18.28592865,\n",
       "         76.36235935, -63.36703226, -70.98138966,  84.70774976,\n",
       "         81.97144003, -51.69251716, -81.26371365,  64.56228244,\n",
       "        -76.96454681,  86.76222291,  -4.58641682,  88.82070223,\n",
       "         14.19357638,  30.0131498 , -29.87477771, -53.39809007,\n",
       "        -56.32311177, -43.05610923, -38.68472964, -42.64649175,\n",
       "        -71.90372071,  73.54777608, -25.43041132,   6.53285369,\n",
       "        -78.92576266, -51.10140933]),\n",
       " 50)"
      ]
     },
     "execution_count": 11,
     "metadata": {},
     "output_type": "execute_result"
    }
   ],
   "source": [
    "random_array = np.random.uniform(-90.000, 90.000, size=50) ## Added a size at the end to create an Array of digits.\n",
    "random_array, len(random_array)"
   ]
  },
  {
   "cell_type": "code",
   "execution_count": 14,
   "id": "3a7e4a30",
   "metadata": {},
   "outputs": [
    {
     "name": "stdout",
     "output_type": "stream",
     "text": [
      "12.8 µs ± 138 ns per loop (mean ± std. dev. of 7 runs, 100000 loops each)\n"
     ]
    }
   ],
   "source": [
    "%timeit np.random.uniform(-90.000, 90.000, size=1500)"
   ]
  },
  {
   "cell_type": "code",
   "execution_count": 20,
   "id": "7f76a506",
   "metadata": {},
   "outputs": [
    {
     "name": "stdout",
     "output_type": "stream",
     "text": [
      "1.33 ms ± 7.85 µs per loop (mean ± std. dev. of 7 runs, 1000 loops each)\n"
     ]
    }
   ],
   "source": [
    "def latitudes(size):\n",
    "    latitudes = []\n",
    "    x = 0\n",
    "    while x < (size):\n",
    "        random_lat = random.randint(-90, 90) + random.random()\n",
    "        latitudes.append(random_lat)\n",
    "        x += 1\n",
    "    return latitudes\n",
    "# Call the function with 1500.\n",
    "%timeit latitudes(1500)"
   ]
  },
  {
   "cell_type": "code",
   "execution_count": 36,
   "id": "8334073e",
   "metadata": {},
   "outputs": [
    {
     "name": "stdout",
     "output_type": "stream",
     "text": [
      "1.35 ms ± 13.1 µs per loop (mean ± std. dev. of 7 runs, 1000 loops each)\n"
     ]
    }
   ],
   "source": [
    "def lat(size):\n",
    "    lat = []\n",
    "    x = 0\n",
    "    for size in range(0, 1500):\n",
    "        lat_num = random.randint(-90, 90) + random.random()\n",
    "        lat.append(lat_num)\n",
    "        x += 1\n",
    "    return lat\n",
    "# Call the function with 1500.\n",
    "len(lat(1500)), \n",
    "%timeit lat(1500)"
   ]
  },
  {
   "cell_type": "code",
   "execution_count": null,
   "id": "46ed20f9",
   "metadata": {},
   "outputs": [],
   "source": []
  }
 ],
 "metadata": {
  "kernelspec": {
   "display_name": "PythonData",
   "language": "python",
   "name": "pythondata"
  },
  "language_info": {
   "codemirror_mode": {
    "name": "ipython",
    "version": 3
   },
   "file_extension": ".py",
   "mimetype": "text/x-python",
   "name": "python",
   "nbconvert_exporter": "python",
   "pygments_lexer": "ipython3",
   "version": "3.9.7"
  }
 },
 "nbformat": 4,
 "nbformat_minor": 5
}
